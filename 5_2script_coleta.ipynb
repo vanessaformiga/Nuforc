{
  "nbformat": 4,
  "nbformat_minor": 0,
  "metadata": {
    "colab": {
      "name": "5.2script_coleta.ipynb",
      "provenance": [],
      "collapsed_sections": [],
      "toc_visible": true
    },
    "kernelspec": {
      "name": "python3",
      "display_name": "Python 3"
    },
    "accelerator": "GPU"
  },
  "cells": [
    {
      "cell_type": "markdown",
      "metadata": {
        "id": "2BubIBb1WPAB",
        "colab_type": "text"
      },
      "source": [
        "# #Script da Coleta"
      ]
    },
    {
      "cell_type": "code",
      "metadata": {
        "id": "yC39hQh_WaUk",
        "colab_type": "code",
        "colab": {}
      },
      "source": [
        "#Desenvolver um script Python para executar a coleta de dados dos vinte anos, entre setembro 1997 e setembro de 2017. \n",
        "#Coloque tudo em um DataFrame e depois salve em um arquivo .csv.\n",
        "\n",
        "from bs4 import BeautifulSoup\n",
        "import requests\n",
        "import time\n",
        "import pandas as pd\n",
        "\n",
        "lista = []\n",
        "\n",
        "meses = ['01','02','03','04','05','06','07','08','09','10','11','12']\n",
        "\n",
        "for ano in range (1997, 2018):\n",
        "  for mes in meses:\n",
        "    link = \"{}{}.html\".format('http://www.nuforc.org/webreports/ndxe',str(ano)+mes)\n",
        "    \n",
        "    if ano == 1997:\n",
        "      if not mes in ['10','11','12']:\n",
        "        continue\n",
        "        \n",
        "    if ano == 2017:\n",
        "      if mes in ['10','11','12']:\n",
        "        continue\n",
        "    \n",
        "    request = requests.get(link).text\n",
        "    soup = BeautifulSoup(request,'html.parser')\n",
        "    tabela = soup.find_all(name=\"table\")\n",
        "    tabela_str = str(tabela)\n",
        "    df = pd.read_html(tabela_str)[0]\n",
        "    lista.append(df)\n",
        "    time.sleep(1)\n",
        "\n",
        "arquivo = pd.concat(lista, ignore_index = True)  \n",
        "arquivo.to_csv('script_coleta.csv')\n",
        "\n"
      ],
      "execution_count": 0,
      "outputs": []
    },
    {
      "cell_type": "markdown",
      "metadata": {
        "id": "0X83DxNFYxXE",
        "colab_type": "text"
      },
      "source": [
        ""
      ]
    }
  ]
}