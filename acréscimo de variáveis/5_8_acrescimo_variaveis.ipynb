{
  "nbformat": 4,
  "nbformat_minor": 0,
  "metadata": {
    "colab": {
      "name": "5.8_acrescimo_variaveis.ipynb",
      "provenance": [],
      "collapsed_sections": []
    },
    "kernelspec": {
      "name": "python3",
      "display_name": "Python 3"
    }
  },
  "cells": [
    {
      "cell_type": "code",
      "metadata": {
        "id": "BBOMH8iK83KT",
        "colab_type": "code",
        "colab": {}
      },
      "source": [
        "import pandas as pd\n",
        "from datetime import datetime\n",
        "import datetime\n",
        "\n",
        "#1.Carregar o seu arquivo df_OVNI_limpo.csv em um dataframe;\n",
        "\n",
        "df = pd.read_csv(\"df_OVNI_limpo.csv\")\n",
        "\n",
        "#2.Dividir o conteúdo da coluna Date / Time em duas novas colunas no mesmo dataframe e deletar\n",
        "# a coluna Date / Time.\n",
        "#transforma a coluna Date/Time em datetime\n",
        "df['Date / Time'] =pd.to_datetime(df['Date / Time'])\n",
        "\n",
        "#criar a coluna sight_date\n",
        "df ['Sight_Date']= df['Date / Time'].dt.strftime('%m/%d/%Y')\n",
        "#criar a coluna sight_time\n",
        "df ['Sight_Time'] = df ['Date / Time'].dt.strftime('%H:%M:%S')\n",
        "\n",
        "#excluindo as colunas date/time e unnamed: 0\n",
        "df.drop(columns=['Date / Time','Unnamed: 0',],axis=1 ,inplace=True)\n",
        "\n",
        "#3. Fazer o mesmo procedimento para dias da semana. \n",
        "#Será que existe um dia da semana com mais ocorrências de relatórios para OVNIs?\n",
        "# Para descobrir isso, você deve criar uma nova coluna chamada weekdays.\n",
        "df ['Sight_Weekdays']=  pd.to_datetime(df['Sight_Date']).dt.day_name()\n",
        "\n",
        "#Será que existe um dia da semana com mais ocorrências de relatórios para OVNIs?\n",
        "# Sim existe esse dia e o dia é a terça feira.\n",
        "\n",
        "#4. Separar as variáveis mês (Month) e dia (Day). Desse modo, será possível refinar as pesquisas.\n",
        "df ['Sight_Month'] = pd.to_datetime(df['Sight_Date']).dt.strftime('%m') \n",
        "df ['Sight_Day'] = pd.to_datetime(df['Sight_Date']).dt.strftime('%d')\n",
        "\n",
        "#5. Salvar o dataframe resultante em um arquivo .csv com o nome: 'df_OVNI_preparado'.\n",
        "df.to_csv(\"df_OVNI_preparado.csv\", index=False)"
      ],
      "execution_count": 0,
      "outputs": []
    }
  ]
}