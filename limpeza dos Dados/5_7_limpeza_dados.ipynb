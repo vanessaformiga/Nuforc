{
  "nbformat": 4,
  "nbformat_minor": 0,
  "metadata": {
    "colab": {
      "name": "5.7_limpeza_dados.ipynb",
      "provenance": [],
      "collapsed_sections": [],
      "toc_visible": true
    },
    "kernelspec": {
      "name": "python3",
      "display_name": "Python 3"
    }
  },
  "cells": [
    {
      "cell_type": "markdown",
      "metadata": {
        "id": "k9UF26P_oxs4",
        "colab_type": "text"
      },
      "source": [
        "##Limpeza de Dados"
      ]
    },
    {
      "cell_type": "code",
      "metadata": {
        "id": "pLYYAPhfZUaU",
        "colab_type": "code",
        "colab": {}
      },
      "source": [
        "import pandas as pd\n",
        "#!pip install -U pandasql\n",
        "import pandasql\n",
        "\n",
        "# 1.Carregar o seu arquivo OVNIS.csv em um dataframe;\n",
        "df = pd.read_csv(\"OVNIS.csv\")\n",
        "\n",
        "\n",
        "estados_eua = pd.read_csv(\"states.csv\",sep=\";\")\n",
        "\n",
        "# 2.Remover registros que tenham valores vazios (None, Unknown, ...) para City, State e Shape;\n",
        "city = \"\"\" SELECT * FROM df WHERE LOWER(City) != 'unknown' AND LOWER(City)!= 'none' \n",
        "AND LOWER(City) != '' ;\"\"\"\n",
        "sql_city = pandasql.sqldf(city)\n",
        "\n",
        "state = \"\"\" SELECT * FROM sql_city WHERE LOWER(State) != 'unknown' AND LOWER(State)!= 'none' \n",
        "AND LOWER(State) != '' ;\"\"\"\n",
        "sql_state = pandasql.sqldf(state)\n",
        "\n",
        "shape = \"\"\" SELECT * FROM sql_state WHERE LOWER(Shape) != 'unknown' AND LOWER(Shape)!= 'none' \n",
        "AND LOWER(Shape) != '' ;\"\"\"\n",
        "sql_shape = pandasql.sqldf(shape)\n",
        "\n",
        "#3.Manter somente os registros referentes aos 51 estados dos Estados Unidos \n",
        "states = \"\"\" SELECT sql_shape.* FROM sql_shape, estados_eua WHERE sql_shape.State = estados_eua.Abbreviation; \"\"\"\n",
        "sql_eua = pandasql.sqldf(states)\n",
        "\n",
        "#4. Remover variáveis irrelevantes para a análise (Duration, Summary e Posted);\n",
        "sql_eua.drop(columns=['Duration','Summary','Posted', 'Unnamed: 0'], axis= 1, inplace=True)\n",
        "\n",
        "# 5.Manter somente os registros de Shapes mais populares (com mais de 1000 ocorrências);\n",
        "count = \"\"\" SELECT Shape , count(Shape) as ocorrencias FROM sql_eua \n",
        "GROUP BY Shape HAVING ocorrencias > 1000; \"\"\"\n",
        "sql_count = pandasql.sqldf(count)\n",
        "\n",
        "ocorrencias = \"\"\" SELECT sql_eua.* FROM sql_eua, sql_count WHERE sql_count.Shape = sql_eua.Shape;\"\"\"\n",
        "sql_ocorrencias = pandasql.sqldf(ocorrencias)\n",
        "\n",
        "# 6.Salvar o dataframe final em um arquivo CSV com o nome \"df_OVNI_limpo\".\n",
        "sql_ocorrencias.to_csv(\"df_OVNI_limpo.csv\")\n"
      ],
      "execution_count": 0,
      "outputs": []
    }
  ]
}